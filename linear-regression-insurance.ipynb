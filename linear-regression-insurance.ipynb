{
 "cells": [
  {
   "cell_type": "code",
   "execution_count": 76,
   "metadata": {
    "_cell_guid": "b1076dfc-b9ad-4769-8c92-a6c4dae69d19",
    "_uuid": "8f2839f25d086af736a60e9eeb907d3b93b6e0e5",
    "execution": {
     "iopub.execute_input": "2023-02-07T18:53:16.089924Z",
     "iopub.status.busy": "2023-02-07T18:53:16.089590Z",
     "iopub.status.idle": "2023-02-07T18:53:16.102684Z",
     "shell.execute_reply": "2023-02-07T18:53:16.101866Z",
     "shell.execute_reply.started": "2023-02-07T18:53:16.089896Z"
    }
   },
   "outputs": [
    {
     "name": "stdout",
     "output_type": "stream",
     "text": [
      "/kaggle/input/insurance-data/new_insurance_data.csv\n"
     ]
    }
   ],
   "source": [
    "import numpy as np # linear algebra\n",
    "import pandas as pd # data processing, CSV file I/O (e.g. pd.read_csv)\n",
    "import matplotlib.pyplot as plt\n",
    "%matplotlib inline"
   ]
  },
  {
   "cell_type": "code",
   "execution_count": 77,
   "metadata": {
    "execution": {
     "iopub.execute_input": "2023-02-07T18:53:16.104358Z",
     "iopub.status.busy": "2023-02-07T18:53:16.104073Z",
     "iopub.status.idle": "2023-02-07T18:53:16.117064Z",
     "shell.execute_reply": "2023-02-07T18:53:16.116143Z",
     "shell.execute_reply.started": "2023-02-07T18:53:16.104333Z"
    }
   },
   "outputs": [],
   "source": [
    "df = pd.read_csv(\"/kaggle/input/insurance-data/new_insurance_data.csv\")"
   ]
  },
  {
   "cell_type": "code",
   "execution_count": null,
   "metadata": {
    "execution": {
     "iopub.status.busy": "2023-02-07T18:53:16.134529Z",
     "iopub.status.idle": "2023-02-07T18:53:16.135304Z",
     "shell.execute_reply": "2023-02-07T18:53:16.135066Z",
     "shell.execute_reply.started": "2023-02-07T18:53:16.135043Z"
    }
   },
   "outputs": [],
   "source": [
    "df.head(20)"
   ]
  },
  {
   "attachments": {},
   "cell_type": "markdown",
   "metadata": {},
   "source": [
    "****Our Target column is Charges****"
   ]
  },
  {
   "attachments": {},
   "cell_type": "markdown",
   "metadata": {},
   "source": [
    "# Exploratory Data Analysis"
   ]
  },
  {
   "attachments": {},
   "cell_type": "markdown",
   "metadata": {},
   "source": [
    "1. The no of rows and columns in dataset\n"
   ]
  },
  {
   "cell_type": "code",
   "execution_count": null,
   "metadata": {
    "execution": {
     "iopub.status.busy": "2023-02-07T18:53:16.136425Z",
     "iopub.status.idle": "2023-02-07T18:53:16.136832Z",
     "shell.execute_reply": "2023-02-07T18:53:16.136639Z",
     "shell.execute_reply.started": "2023-02-07T18:53:16.136619Z"
    }
   },
   "outputs": [],
   "source": [
    "df.shape"
   ]
  },
  {
   "attachments": {},
   "cell_type": "markdown",
   "metadata": {},
   "source": [
    "2. No of null values, total column, no of rows and columns and data type"
   ]
  },
  {
   "cell_type": "code",
   "execution_count": null,
   "metadata": {
    "execution": {
     "iopub.status.busy": "2023-02-07T18:53:16.138466Z",
     "iopub.status.idle": "2023-02-07T18:53:16.139356Z",
     "shell.execute_reply": "2023-02-07T18:53:16.139125Z",
     "shell.execute_reply.started": "2023-02-07T18:53:16.139103Z"
    }
   },
   "outputs": [],
   "source": [
    "df.info()"
   ]
  },
  {
   "attachments": {},
   "cell_type": "markdown",
   "metadata": {},
   "source": [
    "3. We will now check for null values"
   ]
  },
  {
   "cell_type": "code",
   "execution_count": null,
   "metadata": {
    "execution": {
     "iopub.status.busy": "2023-02-07T18:53:16.140336Z",
     "iopub.status.idle": "2023-02-07T18:53:16.141153Z",
     "shell.execute_reply": "2023-02-07T18:53:16.140953Z",
     "shell.execute_reply.started": "2023-02-07T18:53:16.140932Z"
    }
   },
   "outputs": [],
   "source": [
    "df.isnull().sum()\n",
    "# there are some null values "
   ]
  },
  {
   "attachments": {},
   "cell_type": "markdown",
   "metadata": {},
   "source": [
    "4. We can replace or remove the null data. \n",
    "5. When data type is **object**, We can replace the null values with mode.\n",
    "6. When data type is **numeric**, We can replace the null values with mean or median.\n"
   ]
  },
  {
   "cell_type": "code",
   "execution_count": null,
   "metadata": {
    "execution": {
     "iopub.status.busy": "2023-02-07T18:53:16.142161Z",
     "iopub.status.idle": "2023-02-07T18:53:16.143017Z",
     "shell.execute_reply": "2023-02-07T18:53:16.142818Z",
     "shell.execute_reply.started": "2023-02-07T18:53:16.142796Z"
    }
   },
   "outputs": [],
   "source": [
    "df.columns"
   ]
  },
  {
   "attachments": {},
   "cell_type": "markdown",
   "metadata": {},
   "source": [
    "> smoker column is object datatyoe that's why we are taking the mode"
   ]
  },
  {
   "cell_type": "code",
   "execution_count": null,
   "metadata": {
    "execution": {
     "iopub.status.busy": "2023-02-07T18:53:16.145095Z",
     "iopub.status.idle": "2023-02-07T18:53:16.145933Z",
     "shell.execute_reply": "2023-02-07T18:53:16.145731Z",
     "shell.execute_reply.started": "2023-02-07T18:53:16.145710Z"
    }
   },
   "outputs": [],
   "source": [
    "df[\"smoker\"].mode()"
   ]
  },
  {
   "cell_type": "code",
   "execution_count": 79,
   "metadata": {
    "execution": {
     "iopub.execute_input": "2023-02-07T18:53:16.342822Z",
     "iopub.status.busy": "2023-02-07T18:53:16.342474Z",
     "iopub.status.idle": "2023-02-07T18:53:16.348896Z",
     "shell.execute_reply": "2023-02-07T18:53:16.348135Z",
     "shell.execute_reply.started": "2023-02-07T18:53:16.342796Z"
    }
   },
   "outputs": [
    {
     "data": {
      "text/plain": [
       "'no'"
      ]
     },
     "execution_count": 79,
     "metadata": {},
     "output_type": "execute_result"
    }
   ],
   "source": [
    "df[\"smoker\"].mode()[0]\n",
    "# No index value is appearing only value is appearing"
   ]
  },
  {
   "attachments": {},
   "cell_type": "markdown",
   "metadata": {},
   "source": [
    "* Replacing an outlier with the mean is appropriate when the data is **symmetrical** and the outlier does not have a significant effect on the central tendency of the data. On the other hand, replacing an outlier with the median is appropriate when the data is **skewed** and the outlier has a significant effect on the central tendency of the data, as the median is not affected by outliers.\n",
    "*  ways to check if a data set is symmetrical or skewed:\n",
    "    * **Visual inspection**: A histogram or a box plot can be used to visually inspect the distribution of the data. A symmetrical data set will have a bell-shaped histogram and the median will be in the middle of the box plot. A skewed data set will have an uneven histogram and the median will not be in the middle of the box plot.\n",
    "\n",
    "    * **Measures of central tendency**: The mean and median of the data can be calculated and compared. If the mean and median are close, the data is likely symmetrical. If the mean is significantly different from the median, the data is likely skewed.\n",
    "\n",
    "    * **Measures of skewnes**s: The skewness of the data can be calculated to quantify how asymmetrical it is. A skewness of 0 indicates a symmetrical data set, while a skewness greater than 0 indicates a positive skew (a long tail on the right) and a skewness less than 0 indicates a negative skew (a long tail on the left)."
   ]
  },
  {
   "cell_type": "code",
   "execution_count": 80,
   "metadata": {
    "execution": {
     "iopub.execute_input": "2023-02-07T18:53:16.350890Z",
     "iopub.status.busy": "2023-02-07T18:53:16.350658Z",
     "iopub.status.idle": "2023-02-07T18:53:16.367509Z",
     "shell.execute_reply": "2023-02-07T18:53:16.366654Z",
     "shell.execute_reply.started": "2023-02-07T18:53:16.350868Z"
    }
   },
   "outputs": [
    {
     "data": {
      "text/plain": [
       "age                                0\n",
       "sex                                0\n",
       "bmi                                0\n",
       "children                           0\n",
       "smoker                             0\n",
       "Claim_Amount                       0\n",
       "past_consultations                 0\n",
       "num_of_steps                       0\n",
       "Hospital_expenditure               0\n",
       "NUmber_of_past_hospitalizations    0\n",
       "Anual_Salary                       0\n",
       "region                             0\n",
       "charges                            0\n",
       "dtype: int64"
      ]
     },
     "execution_count": 80,
     "metadata": {},
     "output_type": "execute_result"
    }
   ],
   "source": [
    "col = list(df.columns)\n",
    "col\n",
    "# datatype here is list\n",
    "for col_name in col:\n",
    "    if df[col_name].dtype == \"object\":\n",
    "         df[col_name] = df[col_name].fillna(df[col_name].mode()[0])\n",
    "    else:\n",
    "        df[col_name] = df[col_name].fillna(df[col_name].mean())\n",
    "        \n",
    "#lets check the null values now\n",
    "df.isnull().sum()"
   ]
  },
  {
   "cell_type": "code",
   "execution_count": 81,
   "metadata": {
    "execution": {
     "iopub.execute_input": "2023-02-07T18:53:16.369516Z",
     "iopub.status.busy": "2023-02-07T18:53:16.368628Z",
     "iopub.status.idle": "2023-02-07T18:53:17.258881Z",
     "shell.execute_reply": "2023-02-07T18:53:17.257912Z",
     "shell.execute_reply.started": "2023-02-07T18:53:16.369481Z"
    }
   },
   "outputs": [
    {
     "data": {
      "image/png": "[encoded data removed]",
      "text/plain": [
       "<Figure size 432x288 with 1 Axes>"
      ]
     },
     "metadata": {
      "needs_background": "light"
     },
     "output_type": "display_data"
    },
    {
     "data": {
      "image/png": "[encoded data removed]",
      "text/plain": [
       "<Figure size 432x288 with 1 Axes>"
      ]
     },
     "metadata": {
      "needs_background": "light"
     },
     "output_type": "display_data"
    },
    {
     "data": {
      "image/png": "[encoded data removed]",
      "text/plain": [
       "<Figure size 432x288 with 1 Axes>"
      ]
     },
     "metadata": {
      "needs_background": "light"
     },
     "output_type": "display_data"
    },
    {
     "data": {
      "image/png": "[encoded data removed]",
      "text/plain": [
       "<Figure size 432x288 with 1 Axes>"
      ]
     },
     "metadata": {
      "needs_background": "light"
     },
     "output_type": "display_data"
    },
    {
     "data": {
      "image/png": "[encoded data removed]",
      "text/plain": [
       "<Figure size 432x288 with 1 Axes>"
      ]
     },
     "metadata": {
      "needs_background": "light"
     },
     "output_type": "display_data"
    },
    {
     "data": {
      "image/png": "[encoded data removed]",
      "text/plain": [
       "<Figure size 432x288 with 1 Axes>"
      ]
     },
     "metadata": {
      "needs_background": "light"
     },
     "output_type": "display_data"
    },
    {
     "data": {
      "image/png": "[encoded data removed]",
      "text/plain": [
       "<Figure size 432x288 with 1 Axes>"
      ]
     },
     "metadata": {
      "needs_background": "light"
     },
     "output_type": "display_data"
    },
    {
     "data": {
      "image/png": "[encoded data removed]",
      "text/plain": [
       "<Figure size 432x288 with 1 Axes>"
      ]
     },
     "metadata": {
      "needs_background": "light"
     },
     "output_type": "display_data"
    },
    {
     "data": {
      "image/png": "[encoded data removed]",
      "text/plain": [
       "<Figure size 432x288 with 1 Axes>"
      ]
     },
     "metadata": {
      "needs_background": "light"
     },
     "output_type": "display_data"
    },
    {
     "data": {
      "image/png": "[encoded data removed]",
      "text/plain": [
       "<Figure size 432x288 with 1 Axes>"
      ]
     },
     "metadata": {
      "needs_background": "light"
     },
     "output_type": "display_data"
    }
   ],
   "source": [
    "\n",
    "# Plotting the boxplot for each column one by one using the for loop\n",
    "col = list(df.columns)\n",
    "col\n",
    "# datatype here is list\n",
    "\n",
    "for col_name in col:\n",
    "    if(df[col_name].dtypes == \"float64\"):\n",
    "        plt.figure()\n",
    "        df.boxplot([col_name])\n",
    "        \n",
    "        plt.ylabel(\"count\")\n",
    "        plt.show()\n"
   ]
  },
  {
   "attachments": {},
   "cell_type": "markdown",
   "metadata": {
    "execution": {
     "iopub.execute_input": "2023-02-07T07:19:55.983446Z",
     "iopub.status.busy": "2023-02-07T07:19:55.983026Z",
     "iopub.status.idle": "2023-02-07T07:19:55.987824Z",
     "shell.execute_reply": "2023-02-07T07:19:55.986682Z",
     "shell.execute_reply.started": "2023-02-07T07:19:55.983411Z"
    }
   },
   "source": [
    "# Treating the Outliers"
   ]
  },
  {
   "cell_type": "code",
   "execution_count": 82,
   "metadata": {
    "execution": {
     "iopub.execute_input": "2023-02-07T18:53:17.260806Z",
     "iopub.status.busy": "2023-02-07T18:53:17.260468Z",
     "iopub.status.idle": "2023-02-07T18:53:17.269800Z",
     "shell.execute_reply": "2023-02-07T18:53:17.268945Z",
     "shell.execute_reply.started": "2023-02-07T18:53:17.260773Z"
    }
   },
   "outputs": [
    {
     "data": {
      "text/plain": [
       "(26.315, 34.65625)"
      ]
     },
     "execution_count": 82,
     "metadata": {},
     "output_type": "execute_result"
    }
   ],
   "source": [
    "\n",
    "Q1  = df.bmi.quantile(0.25)\n",
    "Q3 = df.bmi.quantile(0.75)\n",
    "Q1, Q3"
   ]
  },
  {
   "attachments": {},
   "cell_type": "markdown",
   "metadata": {},
   "source": [
    "* IQR is Inter Quartile Range"
   ]
  },
  {
   "cell_type": "code",
   "execution_count": 83,
   "metadata": {
    "execution": {
     "iopub.execute_input": "2023-02-07T18:53:17.273357Z",
     "iopub.status.busy": "2023-02-07T18:53:17.272847Z",
     "iopub.status.idle": "2023-02-07T18:53:17.280558Z",
     "shell.execute_reply": "2023-02-07T18:53:17.279755Z",
     "shell.execute_reply.started": "2023-02-07T18:53:17.273330Z"
    }
   },
   "outputs": [
    {
     "data": {
      "text/plain": [
       "8.341249999999999"
      ]
     },
     "execution_count": 83,
     "metadata": {},
     "output_type": "execute_result"
    }
   ],
   "source": [
    "\n",
    "IQR = Q3 - Q1\n",
    "IQR"
   ]
  },
  {
   "attachments": {},
   "cell_type": "markdown",
   "metadata": {},
   "source": [
    "* For finding the minimum(Lower Limit) and maximum(Upper Limit)\n"
   ]
  },
  {
   "cell_type": "code",
   "execution_count": 84,
   "metadata": {
    "execution": {
     "iopub.execute_input": "2023-02-07T18:53:17.282349Z",
     "iopub.status.busy": "2023-02-07T18:53:17.281643Z",
     "iopub.status.idle": "2023-02-07T18:53:17.290427Z",
     "shell.execute_reply": "2023-02-07T18:53:17.289784Z",
     "shell.execute_reply.started": "2023-02-07T18:53:17.282316Z"
    }
   },
   "outputs": [
    {
     "data": {
      "text/plain": [
       "(13.803125000000003, 47.168124999999996)"
      ]
     },
     "execution_count": 84,
     "metadata": {},
     "output_type": "execute_result"
    }
   ],
   "source": [
    "LL = Q1 - 1.5 * IQR\n",
    "UL = Q3 + 1.5 * IQR\n",
    "LL, UL"
   ]
  },
  {
   "cell_type": "code",
   "execution_count": null,
   "metadata": {},
   "outputs": [],
   "source": []
  },
  {
   "cell_type": "code",
   "execution_count": 85,
   "metadata": {
    "execution": {
     "iopub.execute_input": "2023-02-07T18:53:17.292502Z",
     "iopub.status.busy": "2023-02-07T18:53:17.291894Z",
     "iopub.status.idle": "2023-02-07T18:53:17.670775Z",
     "shell.execute_reply": "2023-02-07T18:53:17.669681Z",
     "shell.execute_reply.started": "2023-02-07T18:53:17.292468Z"
    }
   },
   "outputs": [
    {
     "data": {
      "image/png": "[encoded data removed]",
      "text/plain": [
       "<Figure size 432x288 with 1 Axes>"
      ]
     },
     "metadata": {
      "needs_background": "light"
     },
     "output_type": "display_data"
    },
    {
     "data": {
      "image/png": "[encoded data removed]",
      "text/plain": [
       "<Figure size 432x288 with 1 Axes>"
      ]
     },
     "metadata": {
      "needs_background": "light"
     },
     "output_type": "display_data"
    },
    {
     "data": {
      "image/png": "[encoded data removed]",
      "text/plain": [
       "<Figure size 432x288 with 1 Axes>"
      ]
     },
     "metadata": {
      "needs_background": "light"
     },
     "output_type": "display_data"
    },
    {
     "data": {
      "image/png": "[encoded data removed]",
      "text/plain": [
       "<Figure size 432x288 with 1 Axes>"
      ]
     },
     "metadata": {
      "needs_background": "light"
     },
     "output_type": "display_data"
    }
   ],
   "source": [
    "cols = [\"bmi\", \"past_consultations\", \"Hospital_expenditure\", \"Anual_Salary\"]\n",
    "for col_name in cols:\n",
    "    if(df[col_name].dtypes == \"float64\"):\n",
    "        plt.figure()\n",
    "        df.boxplot([col_name])\n",
    "        \n",
    "        plt.ylabel(\"count\")\n",
    "        plt.show()\n"
   ]
  },
  {
   "cell_type": "code",
   "execution_count": 86,
   "metadata": {
    "execution": {
     "iopub.execute_input": "2023-02-07T18:53:17.672763Z",
     "iopub.status.busy": "2023-02-07T18:53:17.672074Z",
     "iopub.status.idle": "2023-02-07T18:53:17.690781Z",
     "shell.execute_reply": "2023-02-07T18:53:17.689918Z",
     "shell.execute_reply.started": "2023-02-07T18:53:17.672651Z"
    }
   },
   "outputs": [],
   "source": [
    "cols = [\"bmi\", \"past_consultations\", \"Hospital_expenditure\", \"Anual_Salary\"]\n",
    "for col in cols:\n",
    "    Q1 = df[col].quantile(0.25)\n",
    "    Q3 = df[col].quantile(0.75)\n",
    "    IQR = Q3 - Q1\n",
    "    df = df[(df[col] >= Q1 - 1.5*IQR) & (df[col] <= Q3 + 1.5*IQR)]\n",
    "\n"
   ]
  },
  {
   "cell_type": "code",
   "execution_count": 87,
   "metadata": {
    "execution": {
     "iopub.execute_input": "2023-02-07T18:53:17.692190Z",
     "iopub.status.busy": "2023-02-07T18:53:17.691881Z",
     "iopub.status.idle": "2023-02-07T18:53:18.070311Z",
     "shell.execute_reply": "2023-02-07T18:53:18.069357Z",
     "shell.execute_reply.started": "2023-02-07T18:53:17.692158Z"
    }
   },
   "outputs": [
    {
     "data": {
      "image/png": "[encoded data removed]",
      "text/plain": [
       "<Figure size 432x288 with 1 Axes>"
      ]
     },
     "metadata": {
      "needs_background": "light"
     },
     "output_type": "display_data"
    },
    {
     "data": {
      "image/png": "[encoded data removed]",
      "text/plain": [
       "<Figure size 432x288 with 1 Axes>"
      ]
     },
     "metadata": {
      "needs_background": "light"
     },
     "output_type": "display_data"
    },
    {
     "data": {
      "image/png": "[encoded data removed]",
      "text/plain": [
       "<Figure size 432x288 with 1 Axes>"
      ]
     },
     "metadata": {
      "needs_background": "light"
     },
     "output_type": "display_data"
    },
    {
     "data": {
      "image/png": "[encoded data removed]",
      "text/plain": [
       "<Figure size 432x288 with 1 Axes>"
      ]
     },
     "metadata": {
      "needs_background": "light"
     },
     "output_type": "display_data"
    }
   ],
   "source": [
    "cols = [\"bmi\", \"past_consultations\", \"Hospital_expenditure\", \"Anual_Salary\"]\n",
    "for col_name in cols:\n",
    "    if(df[col_name].dtypes == \"float64\"):\n",
    "        plt.figure()\n",
    "        df.boxplot([col_name])\n",
    "        \n",
    "        plt.ylabel(\"count\")\n",
    "        plt.show()\n"
   ]
  },
  {
   "cell_type": "code",
   "execution_count": 88,
   "metadata": {
    "execution": {
     "iopub.execute_input": "2023-02-07T18:53:18.072308Z",
     "iopub.status.busy": "2023-02-07T18:53:18.071738Z",
     "iopub.status.idle": "2023-02-07T18:53:18.089284Z",
     "shell.execute_reply": "2023-02-07T18:53:18.088419Z",
     "shell.execute_reply.started": "2023-02-07T18:53:18.072273Z"
    }
   },
   "outputs": [
    {
     "data": {
      "text/html": [
       "<div>\n",
       "<style scoped>\n",
       "    .dataframe tbody tr th:only-of-type {\n",
       "        vertical-align: middle;\n",
       "    }\n",
       "\n",
       "    .dataframe tbody tr th {\n",
       "        vertical-align: top;\n",
       "    }\n",
       "\n",
       "    .dataframe thead th {\n",
       "        text-align: right;\n",
       "    }\n",
       "</style>\n",
       "<table border=\"1\" class=\"dataframe\">\n",
       "  <thead>\n",
       "    <tr style=\"text-align: right;\">\n",
       "      <th></th>\n",
       "      <th>age</th>\n",
       "      <th>bmi</th>\n",
       "      <th>children</th>\n",
       "      <th>Claim_Amount</th>\n",
       "      <th>past_consultations</th>\n",
       "      <th>num_of_steps</th>\n",
       "      <th>Hospital_expenditure</th>\n",
       "      <th>NUmber_of_past_hospitalizations</th>\n",
       "      <th>Anual_Salary</th>\n",
       "      <th>charges</th>\n",
       "    </tr>\n",
       "  </thead>\n",
       "  <tbody>\n",
       "    <tr>\n",
       "      <th>age</th>\n",
       "      <td>1.000000</td>\n",
       "      <td>0.155957</td>\n",
       "      <td>0.045371</td>\n",
       "      <td>0.117750</td>\n",
       "      <td>0.172063</td>\n",
       "      <td>0.749468</td>\n",
       "      <td>0.160555</td>\n",
       "      <td>0.519538</td>\n",
       "      <td>0.490802</td>\n",
       "      <td>0.676071</td>\n",
       "    </tr>\n",
       "    <tr>\n",
       "      <th>bmi</th>\n",
       "      <td>0.155957</td>\n",
       "      <td>1.000000</td>\n",
       "      <td>0.006477</td>\n",
       "      <td>0.008343</td>\n",
       "      <td>0.023543</td>\n",
       "      <td>0.040324</td>\n",
       "      <td>0.013992</td>\n",
       "      <td>0.016121</td>\n",
       "      <td>0.004105</td>\n",
       "      <td>0.010248</td>\n",
       "    </tr>\n",
       "    <tr>\n",
       "      <th>children</th>\n",
       "      <td>0.045371</td>\n",
       "      <td>0.006477</td>\n",
       "      <td>1.000000</td>\n",
       "      <td>0.041716</td>\n",
       "      <td>0.045472</td>\n",
       "      <td>0.228830</td>\n",
       "      <td>-0.007494</td>\n",
       "      <td>0.316622</td>\n",
       "      <td>0.064840</td>\n",
       "      <td>0.138470</td>\n",
       "    </tr>\n",
       "    <tr>\n",
       "      <th>Claim_Amount</th>\n",
       "      <td>0.117750</td>\n",
       "      <td>0.008343</td>\n",
       "      <td>0.041716</td>\n",
       "      <td>1.000000</td>\n",
       "      <td>0.071569</td>\n",
       "      <td>0.185434</td>\n",
       "      <td>0.054111</td>\n",
       "      <td>0.109748</td>\n",
       "      <td>0.157826</td>\n",
       "      <td>0.192601</td>\n",
       "    </tr>\n",
       "    <tr>\n",
       "      <th>past_consultations</th>\n",
       "      <td>0.172063</td>\n",
       "      <td>0.023543</td>\n",
       "      <td>0.045472</td>\n",
       "      <td>0.071569</td>\n",
       "      <td>1.000000</td>\n",
       "      <td>0.259401</td>\n",
       "      <td>0.088466</td>\n",
       "      <td>0.135498</td>\n",
       "      <td>0.265710</td>\n",
       "      <td>0.278131</td>\n",
       "    </tr>\n",
       "    <tr>\n",
       "      <th>num_of_steps</th>\n",
       "      <td>0.749468</td>\n",
       "      <td>0.040324</td>\n",
       "      <td>0.228830</td>\n",
       "      <td>0.185434</td>\n",
       "      <td>0.259401</td>\n",
       "      <td>1.000000</td>\n",
       "      <td>0.299554</td>\n",
       "      <td>0.714983</td>\n",
       "      <td>0.767247</td>\n",
       "      <td>0.936946</td>\n",
       "    </tr>\n",
       "    <tr>\n",
       "      <th>Hospital_expenditure</th>\n",
       "      <td>0.160555</td>\n",
       "      <td>0.013992</td>\n",
       "      <td>-0.007494</td>\n",
       "      <td>0.054111</td>\n",
       "      <td>0.088466</td>\n",
       "      <td>0.299554</td>\n",
       "      <td>1.000000</td>\n",
       "      <td>0.129334</td>\n",
       "      <td>0.366809</td>\n",
       "      <td>0.358378</td>\n",
       "    </tr>\n",
       "    <tr>\n",
       "      <th>NUmber_of_past_hospitalizations</th>\n",
       "      <td>0.519538</td>\n",
       "      <td>0.016121</td>\n",
       "      <td>0.316622</td>\n",
       "      <td>0.109748</td>\n",
       "      <td>0.135498</td>\n",
       "      <td>0.714983</td>\n",
       "      <td>0.129334</td>\n",
       "      <td>1.000000</td>\n",
       "      <td>0.359422</td>\n",
       "      <td>0.538116</td>\n",
       "    </tr>\n",
       "    <tr>\n",
       "      <th>Anual_Salary</th>\n",
       "      <td>0.490802</td>\n",
       "      <td>0.004105</td>\n",
       "      <td>0.064840</td>\n",
       "      <td>0.157826</td>\n",
       "      <td>0.265710</td>\n",
       "      <td>0.767247</td>\n",
       "      <td>0.366809</td>\n",
       "      <td>0.359422</td>\n",
       "      <td>1.000000</td>\n",
       "      <td>0.892308</td>\n",
       "    </tr>\n",
       "    <tr>\n",
       "      <th>charges</th>\n",
       "      <td>0.676071</td>\n",
       "      <td>0.010248</td>\n",
       "      <td>0.138470</td>\n",
       "      <td>0.192601</td>\n",
       "      <td>0.278131</td>\n",
       "      <td>0.936946</td>\n",
       "      <td>0.358378</td>\n",
       "      <td>0.538116</td>\n",
       "      <td>0.892308</td>\n",
       "      <td>1.000000</td>\n",
       "    </tr>\n",
       "  </tbody>\n",
       "</table>\n",
       "</div>"
      ],
      "text/plain": [
       "                                      age       bmi  children  Claim_Amount  \\\n",
       "age                              1.000000  0.155957  0.045371      0.117750   \n",
       "bmi                              0.155957  1.000000  0.006477      0.008343   \n",
       "children                         0.045371  0.006477  1.000000      0.041716   \n",
       "Claim_Amount                     0.117750  0.008343  0.041716      1.000000   \n",
       "past_consultations               0.172063  0.023543  0.045472      0.071569   \n",
       "num_of_steps                     0.749468  0.040324  0.228830      0.185434   \n",
       "Hospital_expenditure             0.160555  0.013992 -0.007494      0.054111   \n",
       "NUmber_of_past_hospitalizations  0.519538  0.016121  0.316622      0.109748   \n",
       "Anual_Salary                     0.490802  0.004105  0.064840      0.157826   \n",
       "charges                          0.676071  0.010248  0.138470      0.192601   \n",
       "\n",
       "                                 past_consultations  num_of_steps  \\\n",
       "age                                        0.172063      0.749468   \n",
       "bmi                                        0.023543      0.040324   \n",
       "children                                   0.045472      0.228830   \n",
       "Claim_Amount                               0.071569      0.185434   \n",
       "past_consultations                         1.000000      0.259401   \n",
       "num_of_steps                               0.259401      1.000000   \n",
       "Hospital_expenditure                       0.088466      0.299554   \n",
       "NUmber_of_past_hospitalizations            0.135498      0.714983   \n",
       "Anual_Salary                               0.265710      0.767247   \n",
       "charges                                    0.278131      0.936946   \n",
       "\n",
       "                                 Hospital_expenditure  \\\n",
       "age                                          0.160555   \n",
       "bmi                                          0.013992   \n",
       "children                                    -0.007494   \n",
       "Claim_Amount                                 0.054111   \n",
       "past_consultations                           0.088466   \n",
       "num_of_steps                                 0.299554   \n",
       "Hospital_expenditure                         1.000000   \n",
       "NUmber_of_past_hospitalizations              0.129334   \n",
       "Anual_Salary                                 0.366809   \n",
       "charges                                      0.358378   \n",
       "\n",
       "                                 NUmber_of_past_hospitalizations  \\\n",
       "age                                                     0.519538   \n",
       "bmi                                                     0.016121   \n",
       "children                                                0.316622   \n",
       "Claim_Amount                                            0.109748   \n",
       "past_consultations                                      0.135498   \n",
       "num_of_steps                                            0.714983   \n",
       "Hospital_expenditure                                    0.129334   \n",
       "NUmber_of_past_hospitalizations                         1.000000   \n",
       "Anual_Salary                                            0.359422   \n",
       "charges                                                 0.538116   \n",
       "\n",
       "                                 Anual_Salary   charges  \n",
       "age                                  0.490802  0.676071  \n",
       "bmi                                  0.004105  0.010248  \n",
       "children                             0.064840  0.138470  \n",
       "Claim_Amount                         0.157826  0.192601  \n",
       "past_consultations                   0.265710  0.278131  \n",
       "num_of_steps                         0.767247  0.936946  \n",
       "Hospital_expenditure                 0.366809  0.358378  \n",
       "NUmber_of_past_hospitalizations      0.359422  0.538116  \n",
       "Anual_Salary                         1.000000  0.892308  \n",
       "charges                              0.892308  1.000000  "
      ]
     },
     "execution_count": 88,
     "metadata": {},
     "output_type": "execute_result"
    }
   ],
   "source": [
    "df.corr()"
   ]
  },
  {
   "cell_type": "code",
   "execution_count": 89,
   "metadata": {
    "execution": {
     "iopub.execute_input": "2023-02-07T18:53:18.092038Z",
     "iopub.status.busy": "2023-02-07T18:53:18.091796Z",
     "iopub.status.idle": "2023-02-07T18:53:18.097827Z",
     "shell.execute_reply": "2023-02-07T18:53:18.096946Z",
     "shell.execute_reply.started": "2023-02-07T18:53:18.092014Z"
    }
   },
   "outputs": [],
   "source": [
    "from sklearn.linear_model import LinearRegression\n",
    "from sklearn.model_selection import train_test_split\n"
   ]
  },
  {
   "attachments": {},
   "cell_type": "markdown",
   "metadata": {},
   "source": [
    "# VIF\n",
    "*  A VIF score of 1 indicates that there is no multicollinearity, while a score greater than 1 indicates an increasing level of multicollinearity. A score of 5 or higher is generally considered to indicate high multicollinearity, which can lead to unstable and unreliable regression models.\n",
    "*  A VIF score of 1 indicates that there is no multicollinearity, while a score greater than 1 indicates an increasing level of multicollinearity. A score of 5 or higher is generally considered to indicate high multicollinearity, which can lead to unstable and unreliable regression models."
   ]
  },
  {
   "cell_type": "code",
   "execution_count": 3,
   "metadata": {
    "execution": {
     "iopub.execute_input": "2023-02-07T18:53:18.099631Z",
     "iopub.status.busy": "2023-02-07T18:53:18.099158Z",
     "iopub.status.idle": "2023-02-07T18:53:18.120403Z",
     "shell.execute_reply": "2023-02-07T18:53:18.119389Z",
     "shell.execute_reply.started": "2023-02-07T18:53:18.099599Z"
    }
   },
   "outputs": [
    {
     "ename": "NameError",
     "evalue": "name 'df' is not defined",
     "output_type": "error",
     "traceback": [
      "\u001b[1;31m---------------------------------------------------------------------------\u001b[0m",
      "\u001b[1;31mNameError\u001b[0m                                 Traceback (most recent call last)",
      "\u001b[1;32m~\\AppData\\Local\\Temp\\ipykernel_23932\\3637641483.py\u001b[0m in \u001b[0;36m<cell line: 4>\u001b[1;34m()\u001b[0m\n\u001b[0;32m      2\u001b[0m \u001b[1;33m\u001b[0m\u001b[0m\n\u001b[0;32m      3\u001b[0m \u001b[0mcol_list\u001b[0m \u001b[1;33m=\u001b[0m \u001b[1;33m[\u001b[0m\u001b[1;33m]\u001b[0m\u001b[1;33m\u001b[0m\u001b[1;33m\u001b[0m\u001b[0m\n\u001b[1;32m----> 4\u001b[1;33m \u001b[1;32mfor\u001b[0m \u001b[0mcol\u001b[0m \u001b[1;32min\u001b[0m \u001b[0mdf\u001b[0m\u001b[1;33m.\u001b[0m\u001b[0mcolumns\u001b[0m\u001b[1;33m:\u001b[0m\u001b[1;33m\u001b[0m\u001b[1;33m\u001b[0m\u001b[0m\n\u001b[0m\u001b[0;32m      5\u001b[0m     \u001b[1;32mif\u001b[0m \u001b[1;33m(\u001b[0m\u001b[1;33m(\u001b[0m\u001b[0mdf\u001b[0m\u001b[1;33m[\u001b[0m\u001b[0mcol\u001b[0m\u001b[1;33m]\u001b[0m\u001b[1;33m.\u001b[0m\u001b[0mdtype\u001b[0m \u001b[1;33m!=\u001b[0m \u001b[1;34m\"object\"\u001b[0m\u001b[1;33m)\u001b[0m \u001b[1;33m&\u001b[0m \u001b[1;33m(\u001b[0m\u001b[0mcol\u001b[0m \u001b[1;33m!=\u001b[0m \u001b[1;34m\"charges\"\u001b[0m\u001b[1;33m)\u001b[0m\u001b[1;33m)\u001b[0m\u001b[1;33m:\u001b[0m\u001b[1;33m\u001b[0m\u001b[1;33m\u001b[0m\u001b[0m\n\u001b[0;32m      6\u001b[0m         \u001b[0mcol_list\u001b[0m\u001b[1;33m.\u001b[0m\u001b[0mappend\u001b[0m\u001b[1;33m(\u001b[0m\u001b[0mcol\u001b[0m\u001b[1;33m)\u001b[0m\u001b[1;33m\u001b[0m\u001b[1;33m\u001b[0m\u001b[0m\n",
      "\u001b[1;31mNameError\u001b[0m: name 'df' is not defined"
     ]
    }
   ],
   "source": [
    "from statsmodels.stats.outliers_influence import variance_inflation_factor\n",
    "\n",
    "col_list = []\n",
    "for col in df.columns:\n",
    "    if ((df[col].dtype != \"object\") & (col != \"charges\")):\n",
    "        col_list.append(col)\n",
    "X = df[col_list]\n",
    "vif_data = pd.DataFrame()\n",
    "vif_data[\"Feature\"] = X.columns\n",
    "vif_data[\"VIF\"] = [variance_inflation_factor(X.values, i) for i in range(len(X.columns))]\n",
    "print(vif_data)"
   ]
  },
  {
   "cell_type": "code",
   "execution_count": 91,
   "metadata": {
    "execution": {
     "iopub.execute_input": "2023-02-07T18:53:18.122136Z",
     "iopub.status.busy": "2023-02-07T18:53:18.121810Z",
     "iopub.status.idle": "2023-02-07T18:53:18.130130Z",
     "shell.execute_reply": "2023-02-07T18:53:18.129292Z",
     "shell.execute_reply.started": "2023-02-07T18:53:18.122103Z"
    }
   },
   "outputs": [
    {
     "data": {
      "text/plain": [
       "array([[1.80000000e+01, 2.32100000e+01, 0.00000000e+00, ...,\n",
       "        4.72092099e+06, 0.00000000e+00, 5.57849700e+07],\n",
       "       [1.80000000e+01, 3.01400000e+01, 0.00000000e+00, ...,\n",
       "        4.32983168e+06, 0.00000000e+00, 1.37008852e+07],\n",
       "       [1.80000000e+01, 3.33300000e+01, 0.00000000e+00, ...,\n",
       "        6.88486077e+06, 0.00000000e+00, 7.35231073e+07],\n",
       "       ...,\n",
       "       [3.10000000e+01, 2.98100000e+01, 0.00000000e+00, ...,\n",
       "        1.02899068e+07, 1.00000000e+00, 3.74530951e+08],\n",
       "       [4.30000000e+01, 2.00450000e+01, 2.00000000e+00, ...,\n",
       "        1.08303011e+07, 1.00000000e+00, 3.69684860e+08],\n",
       "       [3.50000000e+01, 2.80250000e+01, 0.00000000e+00, ...,\n",
       "        1.24774431e+07, 1.00000000e+00, 3.69684860e+08]])"
      ]
     },
     "execution_count": 91,
     "metadata": {},
     "output_type": "execute_result"
    }
   ],
   "source": [
    "\n",
    "X.values"
   ]
  },
  {
   "attachments": {},
   "cell_type": "markdown",
   "metadata": {},
   "source": [
    "* We gonna drop the columns with vif factor more than 5 one by one"
   ]
  },
  {
   "cell_type": "code",
   "execution_count": 100,
   "metadata": {
    "execution": {
     "iopub.execute_input": "2023-02-07T19:02:32.100103Z",
     "iopub.status.busy": "2023-02-07T19:02:32.099777Z",
     "iopub.status.idle": "2023-02-07T19:02:32.105459Z",
     "shell.execute_reply": "2023-02-07T19:02:32.104579Z",
     "shell.execute_reply.started": "2023-02-07T19:02:32.100078Z"
    }
   },
   "outputs": [],
   "source": [
    "df = df.drop([\"NUmber_of_past_hospitalizations\"], axis = 1)"
   ]
  },
  {
   "cell_type": "code",
   "execution_count": 102,
   "metadata": {
    "execution": {
     "iopub.execute_input": "2023-02-07T19:03:56.420576Z",
     "iopub.status.busy": "2023-02-07T19:03:56.420257Z",
     "iopub.status.idle": "2023-02-07T19:03:56.436164Z",
     "shell.execute_reply": "2023-02-07T19:03:56.435034Z",
     "shell.execute_reply.started": "2023-02-07T19:03:56.420552Z"
    }
   },
   "outputs": [
    {
     "name": "stdout",
     "output_type": "stream",
     "text": [
      "                Feature       VIF\n",
      "0              children  1.713101\n",
      "1          Claim_Amount  4.152224\n",
      "2    past_consultations  4.670212\n",
      "3  Hospital_expenditure  4.320876\n",
      "4          Anual_Salary  4.279483\n"
     ]
    }
   ],
   "source": [
    "col_list = []\n",
    "for col in df.columns:\n",
    "    if ((df[col].dtype != \"object\") & (col != \"charges\")):\n",
    "        col_list.append(col)\n",
    "X = df[col_list]\n",
    "vif_data = pd.DataFrame()\n",
    "vif_data[\"Feature\"] = X.columns\n",
    "vif_data[\"VIF\"] = [variance_inflation_factor(X.values, i) for i in range(len(X.columns))]\n",
    "print(vif_data)"
   ]
  },
  {
   "cell_type": "code",
   "execution_count": 106,
   "metadata": {
    "execution": {
     "iopub.execute_input": "2023-02-07T19:06:24.343459Z",
     "iopub.status.busy": "2023-02-07T19:06:24.343092Z",
     "iopub.status.idle": "2023-02-07T19:06:24.349089Z",
     "shell.execute_reply": "2023-02-07T19:06:24.348159Z",
     "shell.execute_reply.started": "2023-02-07T19:06:24.343429Z"
    }
   },
   "outputs": [],
   "source": [
    "x = df.loc[:, [\"children\", \"Claim_Amount\", \"past_consultations\", \"Hospital_expenditure\", \"Anual_Salary\"]]\n",
    "y = df.iloc[:, -1]"
   ]
  },
  {
   "cell_type": "code",
   "execution_count": 107,
   "metadata": {
    "execution": {
     "iopub.execute_input": "2023-02-07T19:06:28.966464Z",
     "iopub.status.busy": "2023-02-07T19:06:28.966128Z",
     "iopub.status.idle": "2023-02-07T19:06:28.973247Z",
     "shell.execute_reply": "2023-02-07T19:06:28.972467Z",
     "shell.execute_reply.started": "2023-02-07T19:06:28.966439Z"
    }
   },
   "outputs": [
    {
     "data": {
      "text/plain": [
       "0        1121.87390\n",
       "1        1131.50660\n",
       "2        1135.94070\n",
       "3        1136.39940\n",
       "4        1137.01100\n",
       "           ...     \n",
       "1046    19107.77960\n",
       "1048    19199.94400\n",
       "1050    19350.36890\n",
       "1062    19798.05455\n",
       "1069    20234.85475\n",
       "Name: charges, Length: 1030, dtype: float64"
      ]
     },
     "execution_count": 107,
     "metadata": {},
     "output_type": "execute_result"
    }
   ],
   "source": [
    "y"
   ]
  },
  {
   "cell_type": "code",
   "execution_count": 111,
   "metadata": {
    "execution": {
     "iopub.execute_input": "2023-02-07T19:24:27.151692Z",
     "iopub.status.busy": "2023-02-07T19:24:27.151378Z",
     "iopub.status.idle": "2023-02-07T19:24:27.172129Z",
     "shell.execute_reply": "2023-02-07T19:24:27.171540Z",
     "shell.execute_reply.started": "2023-02-07T19:24:27.151668Z"
    }
   },
   "outputs": [
    {
     "data": {
      "text/plain": [
       "array([ 7410.79368291, 10525.46032916,  4225.68186835, 11784.67064226,\n",
       "        9710.4476994 ,  2920.28422478,  7675.02920952,  3974.05235591,\n",
       "        1998.9072971 ,  1644.33779822,  9355.99422157,  6212.23827285,\n",
       "        7039.69058407,  6913.4106462 ,  7297.05052728,  8116.21854336,\n",
       "        5359.21098612, 11610.94654975, 10731.85265307,  4125.98535047,\n",
       "        4978.27582416,  7076.11959566,  5297.22536169, 10517.54532015,\n",
       "        7970.3230254 ,  9134.27913298,  3195.07752334,  2030.84851755,\n",
       "        7974.53183189,  6784.2193549 ,  9063.13892275,  9603.83277347,\n",
       "        7310.54589069,  3127.0522965 , 10815.26325585,  6390.86195986,\n",
       "        2959.61224856,  5861.07915274,  8191.7821509 ,  3550.84253838,\n",
       "        2770.66188065,  7533.68996883,  9234.0016588 ,  4599.21923178,\n",
       "        7080.45812908,  6040.26489712,  9148.59452641,  9621.34374206,\n",
       "        1845.77904492,  4786.94915211, 10787.39907087, 10725.71531504,\n",
       "       10417.07991618,  4695.22528892,  7214.06291724,  4625.56717867,\n",
       "        7070.97071415,  4832.79229405,  4921.66452359,  5390.73490964,\n",
       "       12157.57282624,  5842.57056698,  5743.69269362,  3322.41361322,\n",
       "        5241.38796183,  5197.03180732, 12653.27365812, 12330.61447211,\n",
       "       13146.89736512, 10610.86174979,  5343.85665223,  5192.63095825,\n",
       "        2798.5086468 ,  7021.71170606,  5953.25286472,  7750.53776607,\n",
       "        3695.64413674,  9979.30782228,  9140.15977683,  5668.68647815,\n",
       "        7492.02711471,  5387.23905603,  7223.62153604,  4819.64692756,\n",
       "        5274.28601601,  9500.76335612,  8425.37847893,  6088.46443305,\n",
       "       17382.08115561,  4410.3897186 ,  7681.81845597, 11811.01314018,\n",
       "        2847.58654185,  7149.38115335, 12118.90030745,  5218.18164639,\n",
       "        8498.94921924, 18736.06282218,  8374.18288577, 11761.80964656,\n",
       "        6817.38169363,  7419.06962726,  6943.81378548, 15318.22331687,\n",
       "        4082.3526408 ,  9967.7891119 ,  4724.7350264 ,  4982.02483868,\n",
       "        8141.38248821, 15130.76274568,  9988.88380674,  3183.70063997,\n",
       "        9215.9151638 ,  4274.70522627, 16525.7888001 , 11553.07539795,\n",
       "       12180.44821733, 18729.20706778,  9852.65803543,  5369.1270617 ,\n",
       "        8091.955761  , 15196.45857585,  5444.20577559,  4079.32115207,\n",
       "       13076.34151517,  7445.10746272, 10830.27714958,  6369.85142805,\n",
       "        4542.90645189, 11411.14967822,  4709.9134562 ,  3528.20093322,\n",
       "        3487.87204913, 12257.00243488,  6256.80091316,  5009.68002786,\n",
       "       10089.25495931,  6116.31502397,  8280.43438671,  7031.72556365,\n",
       "        9930.75519414,  3817.30935554,  4048.44285506, 11907.05298704,\n",
       "        6686.91692828,  9807.200473  ,  5232.32852199, 10347.06713294,\n",
       "       11601.69659177,  8131.79034823,  5683.70711558, 16387.38483131,\n",
       "        5464.06534315,  4244.00545449,  7264.97043063, 17023.64917215,\n",
       "        3260.27395253,  7385.10498573,  3021.55093668,  7859.13012524,\n",
       "        4654.88456062,  9096.89847871, 14803.62303482,  6155.00653322,\n",
       "       17144.28142724,  2417.39102397,  4006.11079598,  5390.0322728 ,\n",
       "        1196.76765806, 10475.72412493, 11314.24814602,  7035.9057604 ,\n",
       "       10439.81357374,  8530.47197746,  4897.2029884 ,  4789.69132359,\n",
       "       10411.41435708,  6285.14938641,  8396.08173085,  7137.34612038,\n",
       "        7024.10339038, 12696.94870275, 10249.76227983,  5206.96520891,\n",
       "        6026.04223448,  6395.05136151,  8192.26491729, 19892.85307797,\n",
       "        6797.67843891,  7628.25112573, 10469.76556042,  2429.62894558,\n",
       "       13001.99977001,  6795.7314893 ,  7917.71058933,  8232.89888415,\n",
       "       11229.86987185, 11936.16097124,  7674.07424509,  2631.98869906,\n",
       "        8297.23725025,  5781.93758284, 14969.26273668,  4926.60219651,\n",
       "       11617.1272109 ,  2520.96344642])"
      ]
     },
     "execution_count": 111,
     "metadata": {},
     "output_type": "execute_result"
    }
   ],
   "source": [
    "x_train, x_test, y_train, y_test = train_test_split(x, y, train_size = 0.8, random_state = 0)\n",
    "l_model = LinearRegression()\n",
    "l_model.fit(x_train, y_train)\n",
    "predictions = l_model.predict(x_test)\n",
    "predictions"
   ]
  },
  {
   "cell_type": "code",
   "execution_count": 119,
   "metadata": {
    "execution": {
     "iopub.execute_input": "2023-02-07T19:32:34.534088Z",
     "iopub.status.busy": "2023-02-07T19:32:34.533732Z",
     "iopub.status.idle": "2023-02-07T19:32:34.552853Z",
     "shell.execute_reply": "2023-02-07T19:32:34.551629Z",
     "shell.execute_reply.started": "2023-02-07T19:32:34.534058Z"
    }
   },
   "outputs": [
    {
     "data": {
      "text/html": [
       "<div>\n",
       "<style scoped>\n",
       "    .dataframe tbody tr th:only-of-type {\n",
       "        vertical-align: middle;\n",
       "    }\n",
       "\n",
       "    .dataframe tbody tr th {\n",
       "        vertical-align: top;\n",
       "    }\n",
       "\n",
       "    .dataframe thead th {\n",
       "        text-align: right;\n",
       "    }\n",
       "</style>\n",
       "<table border=\"1\" class=\"dataframe\">\n",
       "  <thead>\n",
       "    <tr style=\"text-align: right;\">\n",
       "      <th></th>\n",
       "      <th>Actual_Data</th>\n",
       "      <th>Prediction_Data</th>\n",
       "      <th>Error</th>\n",
       "    </tr>\n",
       "  </thead>\n",
       "  <tbody>\n",
       "    <tr>\n",
       "      <th>752</th>\n",
       "      <td>10704.47000</td>\n",
       "      <td>7410.793683</td>\n",
       "      <td>3293.676317</td>\n",
       "    </tr>\n",
       "    <tr>\n",
       "      <th>723</th>\n",
       "      <td>10197.77220</td>\n",
       "      <td>10525.460329</td>\n",
       "      <td>-327.688129</td>\n",
       "    </tr>\n",
       "    <tr>\n",
       "      <th>177</th>\n",
       "      <td>2801.25880</td>\n",
       "      <td>4225.681868</td>\n",
       "      <td>-1424.423068</td>\n",
       "    </tr>\n",
       "    <tr>\n",
       "      <th>834</th>\n",
       "      <td>11848.14100</td>\n",
       "      <td>11784.670642</td>\n",
       "      <td>63.470358</td>\n",
       "    </tr>\n",
       "    <tr>\n",
       "      <th>718</th>\n",
       "      <td>10107.22060</td>\n",
       "      <td>9710.447699</td>\n",
       "      <td>396.772901</td>\n",
       "    </tr>\n",
       "    <tr>\n",
       "      <th>...</th>\n",
       "      <td>...</td>\n",
       "      <td>...</td>\n",
       "      <td>...</td>\n",
       "    </tr>\n",
       "    <tr>\n",
       "      <th>627</th>\n",
       "      <td>8688.85885</td>\n",
       "      <td>5781.937583</td>\n",
       "      <td>2906.921267</td>\n",
       "    </tr>\n",
       "    <tr>\n",
       "      <th>993</th>\n",
       "      <td>16085.12750</td>\n",
       "      <td>14969.262737</td>\n",
       "      <td>1115.864763</td>\n",
       "    </tr>\n",
       "    <tr>\n",
       "      <th>426</th>\n",
       "      <td>5976.83110</td>\n",
       "      <td>4926.602197</td>\n",
       "      <td>1050.228903</td>\n",
       "    </tr>\n",
       "    <tr>\n",
       "      <th>895</th>\n",
       "      <td>12925.88600</td>\n",
       "      <td>11617.127211</td>\n",
       "      <td>1308.758789</td>\n",
       "    </tr>\n",
       "    <tr>\n",
       "      <th>251</th>\n",
       "      <td>3766.88380</td>\n",
       "      <td>2520.963446</td>\n",
       "      <td>1245.920354</td>\n",
       "    </tr>\n",
       "  </tbody>\n",
       "</table>\n",
       "<p>206 rows × 3 columns</p>\n",
       "</div>"
      ],
      "text/plain": [
       "     Actual_Data  Prediction_Data        Error\n",
       "752  10704.47000      7410.793683  3293.676317\n",
       "723  10197.77220     10525.460329  -327.688129\n",
       "177   2801.25880      4225.681868 -1424.423068\n",
       "834  11848.14100     11784.670642    63.470358\n",
       "718  10107.22060      9710.447699   396.772901\n",
       "..           ...              ...          ...\n",
       "627   8688.85885      5781.937583  2906.921267\n",
       "993  16085.12750     14969.262737  1115.864763\n",
       "426   5976.83110      4926.602197  1050.228903\n",
       "895  12925.88600     11617.127211  1308.758789\n",
       "251   3766.88380      2520.963446  1245.920354\n",
       "\n",
       "[206 rows x 3 columns]"
      ]
     },
     "execution_count": 119,
     "metadata": {},
     "output_type": "execute_result"
    }
   ],
   "source": [
    "error_prediction = pd.DataFrame(columns = {\"Actual_Data\", \"Prediction_Data\"}) \n",
    "error_prediction[\"Actual_Data\"] = y_test\n",
    "# predictions = l_model.predict(x_test)\n",
    "error_prediction[\"Prediction_Data\"] = predictions\n",
    "error_prediction[\"Error\"] = error_prediction[\"Actual_Data\"] - error_prediction[\"Prediction_Data\"]\n",
    "error_prediction"
   ]
  },
  {
   "cell_type": "code",
   "execution_count": 114,
   "metadata": {
    "execution": {
     "iopub.execute_input": "2023-02-07T19:29:46.673713Z",
     "iopub.status.busy": "2023-02-07T19:29:46.673377Z",
     "iopub.status.idle": "2023-02-07T19:29:46.682293Z",
     "shell.execute_reply": "2023-02-07T19:29:46.680950Z",
     "shell.execute_reply.started": "2023-02-07T19:29:46.673685Z"
    }
   },
   "outputs": [
    {
     "data": {
      "text/plain": [
       "752    10704.47000\n",
       "723    10197.77220\n",
       "177     2801.25880\n",
       "834    11848.14100\n",
       "718    10107.22060\n",
       "          ...     \n",
       "627     8688.85885\n",
       "993    16085.12750\n",
       "426     5976.83110\n",
       "895    12925.88600\n",
       "251     3766.88380\n",
       "Name: charges, Length: 206, dtype: float64"
      ]
     },
     "execution_count": 114,
     "metadata": {},
     "output_type": "execute_result"
    }
   ],
   "source": [
    "y_test"
   ]
  },
  {
   "cell_type": "code",
   "execution_count": 1,
   "metadata": {},
   "outputs": [],
   "source": [
    "from sklearn.metrics import * "
   ]
  },
  {
   "cell_type": "code",
   "execution_count": 2,
   "metadata": {},
   "outputs": [
    {
     "ename": "NameError",
     "evalue": "name 'l_model' is not defined",
     "output_type": "error",
     "traceback": [
      "\u001b[1;31m---------------------------------------------------------------------------\u001b[0m",
      "\u001b[1;31mNameError\u001b[0m                                 Traceback (most recent call last)",
      "\u001b[1;32m~\\AppData\\Local\\Temp\\ipykernel_23932\\1425659720.py\u001b[0m in \u001b[0;36m<cell line: 1>\u001b[1;34m()\u001b[0m\n\u001b[1;32m----> 1\u001b[1;33m \u001b[0mtrain_predict\u001b[0m \u001b[1;33m=\u001b[0m \u001b[0ml_model\u001b[0m\u001b[1;33m.\u001b[0m\u001b[0mpredict\u001b[0m\u001b[1;33m(\u001b[0m\u001b[0mx_train\u001b[0m\u001b[1;33m)\u001b[0m\u001b[1;33m\u001b[0m\u001b[1;33m\u001b[0m\u001b[0m\n\u001b[0m",
      "\u001b[1;31mNameError\u001b[0m: name 'l_model' is not defined"
     ]
    }
   ],
   "source": [
    "train_predict = l_model.predict(x_train)"
   ]
  },
  {
   "cell_type": "code",
   "execution_count": null,
   "metadata": {},
   "outputs": [],
   "source": [
    "r2 = r2_score(y_test, predictions)\n",
    "r2"
   ]
  }
 ],
 "metadata": {
  "kernelspec": {
   "display_name": "Python 3 (ipykernel)",
   "language": "python",
   "name": "python3"
  },
  "language_info": {
   "codemirror_mode": {
    "name": "ipython",
    "version": 3
   },
   "file_extension": ".py",
   "mimetype": "text/x-python",
   "name": "python",
   "nbconvert_exporter": "python",
   "pygments_lexer": "ipython3",
   "version": "3.11.2"
  }
 },
 "nbformat": 4,
 "nbformat_minor": 4
}
